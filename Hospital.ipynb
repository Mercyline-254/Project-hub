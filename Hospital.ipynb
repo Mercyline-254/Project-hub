{
 "cells": [
  {
   "cell_type": "code",
   "execution_count": 3,
   "id": "94204c13-11b2-4cf4-be62-d4cf00aa4a10",
   "metadata": {},
   "outputs": [
    {
     "name": "stdout",
     "output_type": "stream",
     "text": [
      "===Welcome to Mercy Hospital===\n",
      "\n"
     ]
    },
    {
     "name": "stdin",
     "output_type": "stream",
     "text": [
      "Enter Patient Name: Esther\n",
      "Enter Gender (M/F): F\n",
      "Enter Patient Age: 20\n",
      "Enter place of Residence: Nairobi\n"
     ]
    },
    {
     "name": "stdout",
     "output_type": "stream",
     "text": [
      "\n",
      "Enter atmost two symptoms from the following list:\n",
      " - Vomiting\n",
      " - Diarrhoea\n",
      "- Fever\n",
      "- Chest Pain\n",
      "- Wheezing sound\n",
      "- Frequent urination\n",
      "- Sugar level fluctuations\n"
     ]
    },
    {
     "name": "stdin",
     "output_type": "stream",
     "text": [
      "Enter Symptom 1:  vomiting\n",
      "Enter Symptom 2:  fever\n"
     ]
    },
    {
     "name": "stdout",
     "output_type": "stream",
     "text": [
      "\n",
      "=== Patients Diagnosis Report ===\n",
      "Patient Name:Esther\n",
      "Gender:F\n",
      "Age:20\n",
      "Place or Residence:Nairobi\n",
      "Symptoms:Vomiting , Fever\n",
      "Possible Diagnosed Disease :Malaria\n"
     ]
    }
   ],
   "source": [
    "In [1]: # Display welcome message\n",
    "print(\"===Welcome to Mercy Hospital===\\n\")\n",
    "#Step 1: Capture patient details\n",
    "name = input(\"Enter Patient Name:\")\n",
    "gender = input(\"Enter Gender (M/F):\")\n",
    "age = input(\"Enter Patient Age:\")\n",
    "residence = input(\"Enter place of Residence:\")\n",
    "\n",
    "#Step 2: Capture symptoms\n",
    "print(\"\\nEnter atmost two symptoms from the following list:\")\n",
    "print(\" - Vomiting\\n - Diarrhoea\\n- Fever\\n- Chest Pain\\n- Wheezing sound\\n- Frequent urination\\n- Sugar level fluctuations\")\n",
    "\n",
    "symptom1 = input (\"Enter Symptom 1: \").lower()\n",
    "symptom2 = input (\"Enter Symptom 2: \").lower()\n",
    "\n",
    "#Step 3 : Match Symptoms to A disease \n",
    "\n",
    "if symptom1 == \"vomiting\" and symptom2 == \"diarrhea\":\n",
    "    disease = \"Typhoid\"\n",
    "\n",
    "elif symptom1 == \"vomiting\" and symptom2 == \"fever\":\n",
    "     disease = \"Malaria\"\n",
    "\n",
    "elif symptom1 == \"chest pain\" and symptom2 == \"wheezing sound\":\n",
    "    disease = \"Pneumonia\"\n",
    "\n",
    "elif symptom1 == \"frequent urination \" and symptom2 == \"sugar level fluctuations\":\n",
    "    disease = \"Diabetes\"\n",
    "else:\n",
    "    disease = \"Unknown\"\n",
    "    \n",
    "#Step 4: Display diagnosis \n",
    "print(\"\\n=== Patients Diagnosis Report ===\")\n",
    "print(f\"Patient Name:{name}\")\n",
    "print(f\"Gender:{gender}\")\n",
    "print(f\"Age:{age}\")\n",
    "print(f\"Place or Residence:{residence}\")\n",
    "print(f\"Symptoms:{symptom1.capitalize()} , {symptom2.capitalize()}\")\n",
    "print(f\"Possible Diagnosed Disease :{disease}\")"
   ]
  },
  {
   "cell_type": "code",
   "execution_count": null,
   "id": "141c9fc2-c541-443b-acd0-1c22ca135511",
   "metadata": {},
   "outputs": [],
   "source": []
  }
 ],
 "metadata": {
  "kernelspec": {
   "display_name": "Python 3 (ipykernel)",
   "language": "python",
   "name": "python3"
  },
  "language_info": {
   "codemirror_mode": {
    "name": "ipython",
    "version": 3
   },
   "file_extension": ".py",
   "mimetype": "text/x-python",
   "name": "python",
   "nbconvert_exporter": "python",
   "pygments_lexer": "ipython3",
   "version": "3.12.7"
  }
 },
 "nbformat": 4,
 "nbformat_minor": 5
}
